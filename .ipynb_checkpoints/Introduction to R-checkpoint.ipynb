{
 "cells": [
  {
   "cell_type": "markdown",
   "metadata": {},
   "source": [
    "# Course - Introduction to R "
   ]
  },
  {
   "cell_type": "markdown",
   "metadata": {},
   "source": [
    "##### NOTE: \n",
    "1. Your code MUST execute without any errors. \n",
    "2. You can add more lines in your code as required."
   ]
  },
  {
   "cell_type": "markdown",
   "metadata": {},
   "source": [
    "## Section 1: Data Types and Operations Pt. 1"
   ]
  },
  {
   "cell_type": "markdown",
   "metadata": {},
   "source": [
    "### Question 1 \n",
    "**Create the variables with the following composition:**\n",
    "1. A vector containing each letter of your first name as its elements.\n",
    "2. A variable that contains your name concatenated from the vector created in (1)\n",
    "3. A variable containing a sequence from 100 to 120.\n",
    "4. Create a matrix of 3x3 dimensions that contains the even sequence of numbers starting from 2.\n",
    "5. Assign names to the variables."
   ]
  },
  {
   "cell_type": "code",
   "execution_count": 183,
   "metadata": {},
   "outputs": [],
   "source": [
    "#### Start solution ####"
   ]
  },
  {
   "cell_type": "code",
   "execution_count": 184,
   "metadata": {},
   "outputs": [
    {
     "name": "stdout",
     "output_type": "stream",
     "text": [
      "[1] \"H\" \"i\" \"r\" \"A\"\n"
     ]
    }
   ],
   "source": [
    "first_name <- c('H','i','r','A')\n",
    "print(first_name)"
   ]
  },
  {
   "cell_type": "code",
   "execution_count": 185,
   "metadata": {},
   "outputs": [
    {
     "name": "stdout",
     "output_type": "stream",
     "text": [
      "[1] \"HirA\"\n"
     ]
    }
   ],
   "source": [
    "name <- paste(first_name, collapse = '')\n",
    "print(name)"
   ]
  },
  {
   "cell_type": "code",
   "execution_count": 186,
   "metadata": {},
   "outputs": [
    {
     "name": "stdout",
     "output_type": "stream",
     "text": [
      " [1] 100 101 102 103 104 105 106 107 108 109 110 111 112 113 114 115 116 117 118\n",
      "[20] 119 120\n"
     ]
    }
   ],
   "source": [
    "numbers <- 100:120\n",
    "print(numbers)"
   ]
  },
  {
   "cell_type": "code",
   "execution_count": 187,
   "metadata": {},
   "outputs": [
    {
     "name": "stdout",
     "output_type": "stream",
     "text": [
      "     [,1] [,2] [,3]\n",
      "[1,]    2    8   14\n",
      "[2,]    4   10   16\n",
      "[3,]    6   12   18\n"
     ]
    }
   ],
   "source": [
    "sequence = c(2*(1:9))\n",
    "m <- matrix(sequence, nrow = 3, ncol = 3)\n",
    "print(m)"
   ]
  },
  {
   "cell_type": "code",
   "execution_count": 188,
   "metadata": {},
   "outputs": [
    {
     "name": "stdout",
     "output_type": "stream",
     "text": [
      "   c1 c2 c3\n",
      "r1  2  8 14\n",
      "r2  4 10 16\n",
      "r3  6 12 18\n"
     ]
    }
   ],
   "source": [
    "row.names(m) <- c(\"r1\",\"r2\",\"r3\")\n",
    "colnames(m) <- c(\"c1\",\"c2\",\"c3\")\n",
    "print(m)"
   ]
  },
  {
   "cell_type": "code",
   "execution_count": 189,
   "metadata": {},
   "outputs": [],
   "source": [
    "#### End solution ####"
   ]
  },
  {
   "cell_type": "markdown",
   "metadata": {},
   "source": [
    "### Question 2\n",
    "**Create a factor variable emp_status:**\n",
    "1. Containing the categorical variables: Employed, Unemployed, Self-Employed, with each level appearing atleast more than 2.\n",
    "2. Display the levels and the factor variable as a table.\n",
    "3. Unclass the elements of the factor variable."
   ]
  },
  {
   "cell_type": "code",
   "execution_count": 190,
   "metadata": {},
   "outputs": [],
   "source": [
    "#### Start solution ####"
   ]
  },
  {
   "cell_type": "code",
   "execution_count": 191,
   "metadata": {},
   "outputs": [
    {
     "name": "stdout",
     "output_type": "stream",
     "text": [
      "[1] Employed      Self-Employed Employed      Unemployed    Self-Employed\n",
      "[6] Employed      Self-Employed Unemployed   \n",
      "Levels: Employed Unemployed Self-Employed\n"
     ]
    }
   ],
   "source": [
    "employee <- factor(c(\"Employed\", \"Self-Employed\", \"Employed\", \"Unemployed\", \"Self-Employed\", \"Employed\", \"Self-Employed\", \"Unemployed\"), levels = c(\"Employed\", \"Unemployed\", \"Self-Employed\"))\n",
    "print(employee)"
   ]
  },
  {
   "cell_type": "code",
   "execution_count": 192,
   "metadata": {},
   "outputs": [
    {
     "data": {
      "text/plain": [
       "employee\n",
       "     Employed    Unemployed Self-Employed \n",
       "            3             2             3 "
      ]
     },
     "metadata": {},
     "output_type": "display_data"
    }
   ],
   "source": [
    "table(employee)"
   ]
  },
  {
   "cell_type": "code",
   "execution_count": 193,
   "metadata": {},
   "outputs": [
    {
     "data": {
      "text/html": [
       "<style>\n",
       ".list-inline {list-style: none; margin:0; padding: 0}\n",
       ".list-inline>li {display: inline-block}\n",
       ".list-inline>li:not(:last-child)::after {content: \"\\00b7\"; padding: 0 .5ex}\n",
       "</style>\n",
       "<ol class=list-inline><li>1</li><li>3</li><li>1</li><li>2</li><li>3</li><li>1</li><li>3</li><li>2</li></ol>\n"
      ],
      "text/latex": [
       "\\begin{enumerate*}\n",
       "\\item 1\n",
       "\\item 3\n",
       "\\item 1\n",
       "\\item 2\n",
       "\\item 3\n",
       "\\item 1\n",
       "\\item 3\n",
       "\\item 2\n",
       "\\end{enumerate*}\n"
      ],
      "text/markdown": [
       "1. 1\n",
       "2. 3\n",
       "3. 1\n",
       "4. 2\n",
       "5. 3\n",
       "6. 1\n",
       "7. 3\n",
       "8. 2\n",
       "\n",
       "\n"
      ],
      "text/plain": [
       "[1] 1 3 1 2 3 1 3 2\n",
       "attr(,\"levels\")\n",
       "[1] \"Employed\"      \"Unemployed\"    \"Self-Employed\""
      ]
     },
     "metadata": {},
     "output_type": "display_data"
    }
   ],
   "source": [
    "unclass(employee)"
   ]
  },
  {
   "cell_type": "code",
   "execution_count": 194,
   "metadata": {},
   "outputs": [],
   "source": [
    "#### End solution ####"
   ]
  },
  {
   "cell_type": "markdown",
   "metadata": {},
   "source": [
    "### Question 3\n",
    "**Create a dataframe object called bank_customers:**\n",
    "1. the data frame will have three columns: CustomerID, hasAccount, totalBalance\n",
    "2. Fill the data as follows\n",
    "    a. Alicia does not have an account. She is here for inquiry \n",
    "    b. Nancy is here to check on her account balance of USD 10,000.\n",
    "    c. Fernando is here to deposit USD 100 in his account which had no balance.\n",
    "    d. Louis will withdraw all his money from the account that had USD 2,000. \n",
    "    e. Diane is here for information. \n",
    "3. For customers that do not have a value, use NA as placeholder.\n",
    "4. Print the number of rows, columns and names for the data frame."
   ]
  },
  {
   "cell_type": "code",
   "execution_count": 195,
   "metadata": {},
   "outputs": [],
   "source": [
    "#### Start solution ####"
   ]
  },
  {
   "cell_type": "code",
   "execution_count": 196,
   "metadata": {},
   "outputs": [
    {
     "data": {
      "text/html": [
       "<table class=\"dataframe\">\n",
       "<caption>A data.frame: 0 × 3</caption>\n",
       "<thead>\n",
       "\t<tr><th scope=col>CustomerID</th><th scope=col>hasAccount</th><th scope=col>totalBalance</th></tr>\n",
       "\t<tr><th scope=col>&lt;lgl&gt;</th><th scope=col>&lt;lgl&gt;</th><th scope=col>&lt;lgl&gt;</th></tr>\n",
       "</thead>\n",
       "<tbody>\n",
       "</tbody>\n",
       "</table>\n"
      ],
      "text/latex": [
       "A data.frame: 0 × 3\n",
       "\\begin{tabular}{lll}\n",
       " CustomerID & hasAccount & totalBalance\\\\\n",
       " <lgl> & <lgl> & <lgl>\\\\\n",
       "\\hline\n",
       "\\end{tabular}\n"
      ],
      "text/markdown": [
       "\n",
       "A data.frame: 0 × 3\n",
       "\n",
       "| CustomerID &lt;lgl&gt; | hasAccount &lt;lgl&gt; | totalBalance &lt;lgl&gt; |\n",
       "|---|---|---|\n",
       "\n"
      ],
      "text/plain": [
       "     CustomerID hasAccount totalBalance"
      ]
     },
     "metadata": {},
     "output_type": "display_data"
    }
   ],
   "source": [
    "bank_customers <- data.frame(matrix(ncol = 3))\n",
    "colnames(bank_customers) <- c(\"CustomerID\", \"hasAccount\", \"totalBalance\")\n",
    "bank_customers <- bank_customers[-c(1),]\n",
    "bank_customers"
   ]
  },
  {
   "cell_type": "code",
   "execution_count": 197,
   "metadata": {},
   "outputs": [
    {
     "data": {
      "text/html": [
       "<table class=\"dataframe\">\n",
       "<caption>A data.frame: 5 × 3</caption>\n",
       "<thead>\n",
       "\t<tr><th></th><th scope=col>CustomerID</th><th scope=col>hasAccount</th><th scope=col>totalBalance</th></tr>\n",
       "\t<tr><th></th><th scope=col>&lt;dbl&gt;</th><th scope=col>&lt;lgl&gt;</th><th scope=col>&lt;dbl&gt;</th></tr>\n",
       "</thead>\n",
       "<tbody>\n",
       "\t<tr><th scope=row>Alia</th><td>1</td><td>FALSE</td><td>   NA</td></tr>\n",
       "\t<tr><th scope=row>Nancy</th><td>2</td><td> TRUE</td><td>10000</td></tr>\n",
       "\t<tr><th scope=row>Fernando</th><td>3</td><td> TRUE</td><td>    0</td></tr>\n",
       "\t<tr><th scope=row>Louis</th><td>4</td><td> TRUE</td><td> 2000</td></tr>\n",
       "\t<tr><th scope=row>Diane</th><td>5</td><td>   NA</td><td>   NA</td></tr>\n",
       "</tbody>\n",
       "</table>\n"
      ],
      "text/latex": [
       "A data.frame: 5 × 3\n",
       "\\begin{tabular}{r|lll}\n",
       "  & CustomerID & hasAccount & totalBalance\\\\\n",
       "  & <dbl> & <lgl> & <dbl>\\\\\n",
       "\\hline\n",
       "\tAlia & 1 & FALSE &    NA\\\\\n",
       "\tNancy & 2 &  TRUE & 10000\\\\\n",
       "\tFernando & 3 &  TRUE &     0\\\\\n",
       "\tLouis & 4 &  TRUE &  2000\\\\\n",
       "\tDiane & 5 &    NA &    NA\\\\\n",
       "\\end{tabular}\n"
      ],
      "text/markdown": [
       "\n",
       "A data.frame: 5 × 3\n",
       "\n",
       "| <!--/--> | CustomerID &lt;dbl&gt; | hasAccount &lt;lgl&gt; | totalBalance &lt;dbl&gt; |\n",
       "|---|---|---|---|\n",
       "| Alia | 1 | FALSE |    NA |\n",
       "| Nancy | 2 |  TRUE | 10000 |\n",
       "| Fernando | 3 |  TRUE |     0 |\n",
       "| Louis | 4 |  TRUE |  2000 |\n",
       "| Diane | 5 |    NA |    NA |\n",
       "\n"
      ],
      "text/plain": [
       "         CustomerID hasAccount totalBalance\n",
       "Alia     1          FALSE         NA       \n",
       "Nancy    2           TRUE      10000       \n",
       "Fernando 3           TRUE          0       \n",
       "Louis    4           TRUE       2000       \n",
       "Diane    5             NA         NA       "
      ]
     },
     "metadata": {},
     "output_type": "display_data"
    }
   ],
   "source": [
    "#adding records\n",
    "new_customer <- data.frame(\n",
    "    row.names = \"Alia\",\n",
    "    CustomerID = 1,\n",
    "    hasAccount = F,\n",
    "    totalBalance = NA\n",
    ")\n",
    "bank_customers <- rbind(bank_customers, new_customer)\n",
    "\n",
    "new_customer <- data.frame(\n",
    "    row.names = \"Nancy\",\n",
    "    CustomerID = 2,\n",
    "    hasAccount = T,\n",
    "    totalBalance = 10000\n",
    ")\n",
    "bank_customers <- rbind(bank_customers, new_customer)\n",
    "\n",
    "new_customer <- data.frame(\n",
    "    row.names = \"Fernando\",\n",
    "    CustomerID = 3,\n",
    "    hasAccount = T,\n",
    "    totalBalance = 0\n",
    ")\n",
    "bank_customers <- rbind(bank_customers, new_customer)\n",
    "\n",
    "new_customer <- data.frame(\n",
    "    row.names = \"Louis\",\n",
    "    CustomerID = 4,\n",
    "    hasAccount = T,\n",
    "    totalBalance = 2000\n",
    ")\n",
    "bank_customers <- rbind(bank_customers, new_customer)\n",
    "\n",
    "new_customer <- data.frame(\n",
    "    row.names = \"Diane\",\n",
    "    CustomerID = 5,\n",
    "    hasAccount = NA,\n",
    "    totalBalance = NA\n",
    ")\n",
    "bank_customers <- rbind(bank_customers, new_customer)\n",
    "bank_customers"
   ]
  },
  {
   "cell_type": "code",
   "execution_count": 198,
   "metadata": {},
   "outputs": [
    {
     "data": {
      "text/html": [
       "5"
      ],
      "text/latex": [
       "5"
      ],
      "text/markdown": [
       "5"
      ],
      "text/plain": [
       "[1] 5"
      ]
     },
     "metadata": {},
     "output_type": "display_data"
    }
   ],
   "source": [
    "nrow(bank_customers)"
   ]
  },
  {
   "cell_type": "code",
   "execution_count": 199,
   "metadata": {},
   "outputs": [
    {
     "data": {
      "text/html": [
       "3"
      ],
      "text/latex": [
       "3"
      ],
      "text/markdown": [
       "3"
      ],
      "text/plain": [
       "[1] 3"
      ]
     },
     "metadata": {},
     "output_type": "display_data"
    }
   ],
   "source": [
    "ncol(bank_customers)"
   ]
  },
  {
   "cell_type": "code",
   "execution_count": 200,
   "metadata": {},
   "outputs": [
    {
     "data": {
      "text/html": [
       "<ol>\n",
       "\t<li><style>\n",
       ".list-inline {list-style: none; margin:0; padding: 0}\n",
       ".list-inline>li {display: inline-block}\n",
       ".list-inline>li:not(:last-child)::after {content: \"\\00b7\"; padding: 0 .5ex}\n",
       "</style>\n",
       "<ol class=list-inline><li>'Alia'</li><li>'Nancy'</li><li>'Fernando'</li><li>'Louis'</li><li>'Diane'</li></ol>\n",
       "</li>\n",
       "\t<li><style>\n",
       ".list-inline {list-style: none; margin:0; padding: 0}\n",
       ".list-inline>li {display: inline-block}\n",
       ".list-inline>li:not(:last-child)::after {content: \"\\00b7\"; padding: 0 .5ex}\n",
       "</style>\n",
       "<ol class=list-inline><li>'CustomerID'</li><li>'hasAccount'</li><li>'totalBalance'</li></ol>\n",
       "</li>\n",
       "</ol>\n"
      ],
      "text/latex": [
       "\\begin{enumerate}\n",
       "\\item \\begin{enumerate*}\n",
       "\\item 'Alia'\n",
       "\\item 'Nancy'\n",
       "\\item 'Fernando'\n",
       "\\item 'Louis'\n",
       "\\item 'Diane'\n",
       "\\end{enumerate*}\n",
       "\n",
       "\\item \\begin{enumerate*}\n",
       "\\item 'CustomerID'\n",
       "\\item 'hasAccount'\n",
       "\\item 'totalBalance'\n",
       "\\end{enumerate*}\n",
       "\n",
       "\\end{enumerate}\n"
      ],
      "text/markdown": [
       "1. 1. 'Alia'\n",
       "2. 'Nancy'\n",
       "3. 'Fernando'\n",
       "4. 'Louis'\n",
       "5. 'Diane'\n",
       "\n",
       "\n",
       "\n",
       "2. 1. 'CustomerID'\n",
       "2. 'hasAccount'\n",
       "3. 'totalBalance'\n",
       "\n",
       "\n",
       "\n",
       "\n",
       "\n"
      ],
      "text/plain": [
       "[[1]]\n",
       "[1] \"Alia\"     \"Nancy\"    \"Fernando\" \"Louis\"    \"Diane\"   \n",
       "\n",
       "[[2]]\n",
       "[1] \"CustomerID\"   \"hasAccount\"   \"totalBalance\"\n"
      ]
     },
     "metadata": {},
     "output_type": "display_data"
    }
   ],
   "source": [
    "dimnames(bank_customers)"
   ]
  },
  {
   "cell_type": "code",
   "execution_count": 201,
   "metadata": {},
   "outputs": [],
   "source": [
    "#### End solution ####"
   ]
  },
  {
   "cell_type": "markdown",
   "metadata": {},
   "source": [
    "### Good Job! You have successfully completed the section!"
   ]
  },
  {
   "cell_type": "markdown",
   "metadata": {},
   "source": [
    "## Section 2: Control Structures "
   ]
  },
  {
   "cell_type": "markdown",
   "metadata": {},
   "source": [
    "### Question 1\n",
    "**Create a variable containing a sequence of numbers from 1 to 100:**\n",
    "1. Iterate over the variables and print those numbers which are prime.\n",
    "\n",
    "**Create a variable var with a value of 1:**\n",
    "1. Create a while loop and increase the value of var at each iteration. \n",
    "2. When you reach the 10th prime number, terminate the loop and print the number."
   ]
  },
  {
   "cell_type": "code",
   "execution_count": 202,
   "metadata": {},
   "outputs": [],
   "source": [
    "#### Start solution ####"
   ]
  },
  {
   "cell_type": "code",
   "execution_count": 203,
   "metadata": {},
   "outputs": [
    {
     "name": "stdout",
     "output_type": "stream",
     "text": [
      "Prime numbers are :  1 2 3 5 7 11 13 17 19 23 29 31 37 41 43 47 53 59 61 67 71 73 79 83 89 97"
     ]
    }
   ],
   "source": [
    "printPrimeNumbers <- function(nums){\n",
    "     primeNumbers = c()\n",
    "     for(num in nums){\n",
    "          flag <- 1; i <- 2\n",
    "          while(i < num){\n",
    "               if(num %% i == 0) flag <- 0\n",
    "               i = i + 1\n",
    "          }\n",
    "          if(flag == 1) primeNumbers = c(primeNumbers, num)\n",
    "     }\n",
    "     primeNumbers\n",
    "}\n",
    "nums = 1:100\n",
    "primeNumbers = printPrimeNumbers(nums)\n",
    "cat('Prime numbers are : ',primeNumbers)"
   ]
  },
  {
   "cell_type": "code",
   "execution_count": 204,
   "metadata": {},
   "outputs": [
    {
     "name": "stdout",
     "output_type": "stream",
     "text": [
      "[1] 23\n"
     ]
    }
   ],
   "source": [
    "#get prime numbers upto count\n",
    "getPrimeNumber <- function(nums,target){\n",
    "     index <- 1; primeCount <- 0; primeNumber <- NA\n",
    "     while(TRUE){\n",
    "          flag <- 1; i <- 2\n",
    "          while(i < nums[index]){\n",
    "               if(nums[index] %% i == 0) flag <- 0\n",
    "               i = i + 1\n",
    "          }\n",
    "          if(flag == 1){\n",
    "               primeNumber <- nums[index]\n",
    "               primeCount <- primeCount + 1\n",
    "          }\n",
    "          index <- index + 1\n",
    "          if(primeCount == target) break\n",
    "     }\n",
    "     primeNumber\n",
    "}\n",
    "nums <- 1:100\n",
    "p = getPrimeNumber(nums,10)\n",
    "print(p)"
   ]
  },
  {
   "cell_type": "code",
   "execution_count": 205,
   "metadata": {},
   "outputs": [],
   "source": [
    "#### End solution ####"
   ]
  },
  {
   "cell_type": "markdown",
   "metadata": {},
   "source": [
    "### Question 2\n",
    "**Create a matrix of size 3x3 called mat_1:**\n",
    "1. Iterate over all the values one by one and print the element as well as the position in the matrix (row, col)"
   ]
  },
  {
   "cell_type": "code",
   "execution_count": 206,
   "metadata": {},
   "outputs": [],
   "source": [
    "#### Start solution ####"
   ]
  },
  {
   "cell_type": "code",
   "execution_count": 207,
   "metadata": {},
   "outputs": [
    {
     "name": "stdout",
     "output_type": "stream",
     "text": [
      "     [,1] [,2] [,3]\n",
      "[1,]    1    4    7\n",
      "[2,]    2    5    8\n",
      "[3,]    3    6    9\n"
     ]
    }
   ],
   "source": [
    "mat_1 = matrix(1:9, ncol = 3, nrow = 3)\n",
    "print(mat_1)"
   ]
  },
  {
   "cell_type": "code",
   "execution_count": 208,
   "metadata": {},
   "outputs": [
    {
     "name": "stdout",
     "output_type": "stream",
     "text": [
      "[1] 1\n",
      "[1] 4\n",
      "[1] 7\n",
      "[1] 2\n",
      "[1] 5\n",
      "[1] 8\n",
      "[1] 3\n",
      "[1] 6\n",
      "[1] 9\n"
     ]
    }
   ],
   "source": [
    "for(row in seq_len(nrow(mat_1))){\n",
    "     for(column in seq_len(ncol(mat_1))){\n",
    "          print(mat_1[row,column])\n",
    "     }\n",
    "}"
   ]
  },
  {
   "cell_type": "code",
   "execution_count": 209,
   "metadata": {},
   "outputs": [],
   "source": [
    "#### End solution ####"
   ]
  },
  {
   "cell_type": "markdown",
   "metadata": {},
   "source": [
    "### Good Job! You have successfully completed the section!"
   ]
  },
  {
   "cell_type": "markdown",
   "metadata": {},
   "source": [
    "## Section 3: Functions"
   ]
  },
  {
   "cell_type": "markdown",
   "metadata": {},
   "source": [
    "### Question 1\n",
    "**Create a function called gcd that finds the greatest common divisor of two numbers a and b:**\n",
    "1. a and b, should be taken as input.\n",
    "2. The function must print the GCD as well as return it.\n",
    "3. The output must be saved in a variable called answer."
   ]
  },
  {
   "cell_type": "code",
   "execution_count": 210,
   "metadata": {},
   "outputs": [],
   "source": [
    "#### Start solution ####"
   ]
  },
  {
   "cell_type": "code",
   "execution_count": 211,
   "metadata": {},
   "outputs": [],
   "source": [
    "gcd <- function(a,b){\n",
    "     if(b==0) a\n",
    "     else gcd(b, a%%b)\n",
    "}"
   ]
  },
  {
   "cell_type": "code",
   "execution_count": 212,
   "metadata": {},
   "outputs": [],
   "source": [
    "a <- 22\n",
    "b <- 33"
   ]
  },
  {
   "cell_type": "code",
   "execution_count": 213,
   "metadata": {},
   "outputs": [],
   "source": [
    "answer = gcd(a,b)"
   ]
  },
  {
   "cell_type": "code",
   "execution_count": 214,
   "metadata": {},
   "outputs": [
    {
     "name": "stdout",
     "output_type": "stream",
     "text": [
      "GCD of 22 and 33 is 11"
     ]
    }
   ],
   "source": [
    "cat('GCD of',a,'and',b,'is',answer)"
   ]
  },
  {
   "cell_type": "code",
   "execution_count": 215,
   "metadata": {},
   "outputs": [],
   "source": [
    "#### End solution ####"
   ]
  },
  {
   "cell_type": "markdown",
   "metadata": {},
   "source": [
    "### Question 2\n",
    "**Create a function called allConditionsMeet, that checks whether two expressions evaluate to true:**\n",
    "1. a and b, should be taken as input.\n",
    "2. the function should check if a and b, both conditions, evaluate to True.\n",
    "3. The function must returns a boolean value.\n",
    "4. Using a method, print the arguments that function takes."
   ]
  },
  {
   "cell_type": "code",
   "execution_count": 216,
   "metadata": {},
   "outputs": [],
   "source": [
    "#### Start solution ####"
   ]
  },
  {
   "cell_type": "code",
   "execution_count": 217,
   "metadata": {},
   "outputs": [],
   "source": [
    "allConditionsMeet <- function(a,b) if(a == TRUE && b == TRUE) TRUE else FALSE"
   ]
  },
  {
   "cell_type": "code",
   "execution_count": 218,
   "metadata": {},
   "outputs": [
    {
     "name": "stdout",
     "output_type": "stream",
     "text": [
      "[1] FALSE\n"
     ]
    }
   ],
   "source": [
    "print(allConditionsMeet(2>3,4>6))"
   ]
  },
  {
   "cell_type": "code",
   "execution_count": 219,
   "metadata": {},
   "outputs": [],
   "source": [
    "arguments = names(formals(allConditionsMeet))"
   ]
  },
  {
   "cell_type": "code",
   "execution_count": 220,
   "metadata": {},
   "outputs": [
    {
     "name": "stdout",
     "output_type": "stream",
     "text": [
      "Arguments the function takes are a b"
     ]
    }
   ],
   "source": [
    "cat('Arguments the function takes are',arguments)"
   ]
  },
  {
   "cell_type": "code",
   "execution_count": 221,
   "metadata": {},
   "outputs": [],
   "source": [
    "#### End solution ####"
   ]
  },
  {
   "cell_type": "markdown",
   "metadata": {},
   "source": [
    "### Good Job! You have successfully completed the section!"
   ]
  },
  {
   "cell_type": "markdown",
   "metadata": {},
   "source": [
    "## Section 4: Vectorized Operations"
   ]
  },
  {
   "cell_type": "markdown",
   "metadata": {},
   "source": [
    "### Question 1\n",
    "**Create two matrices matrix_1 and matrix_2 of dimensions 2x3 and 3x2:**\n",
    "1. Perform element-wise multiplication.\n",
    "2. Perform matrix multipilcation. \n",
    "\n",
    "**Create a 2x2 matrix my_mat:**\n",
    "1. Write a function to find the determinant of the matrix."
   ]
  },
  {
   "cell_type": "code",
   "execution_count": 222,
   "metadata": {},
   "outputs": [],
   "source": [
    "#### Start solution ####"
   ]
  },
  {
   "cell_type": "code",
   "execution_count": 223,
   "metadata": {},
   "outputs": [
    {
     "name": "stdout",
     "output_type": "stream",
     "text": [
      "     [,1] [,2] [,3]\n",
      "[1,]    1    3    5\n",
      "[2,]    2    4    6\n"
     ]
    }
   ],
   "source": [
    "matrix_1 = matrix(1:6, ncol = 3, nrow = 2)\n",
    "\n",
    "print(matrix_1)"
   ]
  },
  {
   "cell_type": "code",
   "execution_count": 224,
   "metadata": {},
   "outputs": [
    {
     "name": "stdout",
     "output_type": "stream",
     "text": [
      "     [,1] [,2]\n",
      "[1,]    1    4\n",
      "[2,]    2    5\n",
      "[3,]    3    6\n"
     ]
    }
   ],
   "source": [
    "matrix_2 = matrix(1:6, ncol = 2, nrow = 3)\n",
    "\n",
    "print(matrix_2)"
   ]
  },
  {
   "cell_type": "code",
   "execution_count": 225,
   "metadata": {},
   "outputs": [
    {
     "name": "stdout",
     "output_type": "stream",
     "text": [
      "[1] \"Element-wise multipilcation\"\n",
      "     [,1] [,2] [,3]\n",
      "[1,]    1    9   25\n",
      "[2,]    4   16   36\n"
     ]
    }
   ],
   "source": [
    "print('Element-wise multipilcation')\n",
    "elements = c(matrix_2) * c(matrix_1)\n",
    "matrix_3 = matrix(elements,2,3)\n",
    "print(matrix_3)"
   ]
  },
  {
   "cell_type": "code",
   "execution_count": 226,
   "metadata": {},
   "outputs": [
    {
     "name": "stdout",
     "output_type": "stream",
     "text": [
      "[1] \"Matrix multipilcation\"\n",
      "     [,1] [,2]\n",
      "[1,]   22   49\n",
      "[2,]   28   64\n"
     ]
    }
   ],
   "source": [
    "print('Matrix multipilcation')\n",
    "\n",
    "matrix_3 = matrix_1%*%matrix_2\n",
    "\n",
    "print(matrix_3)"
   ]
  },
  {
   "cell_type": "code",
   "execution_count": 227,
   "metadata": {},
   "outputs": [
    {
     "name": "stdout",
     "output_type": "stream",
     "text": [
      "[1] -2\n"
     ]
    }
   ],
   "source": [
    "my_mat = matrix(1:4, ncol = 2, nrow = 2)\n",
    "\n",
    "print(det(my_mat))"
   ]
  },
  {
   "cell_type": "code",
   "execution_count": 228,
   "metadata": {},
   "outputs": [],
   "source": [
    "#### End solution ####"
   ]
  },
  {
   "cell_type": "markdown",
   "metadata": {},
   "source": [
    "### Good Job! You have successfully completed the section!"
   ]
  },
  {
   "cell_type": "markdown",
   "metadata": {},
   "source": [
    "## Section 5: Date and Time in R"
   ]
  },
  {
   "cell_type": "markdown",
   "metadata": {},
   "source": [
    "### Question 1\n",
    "**Use the current date and time and store them into variables curr_date and curr_time respectively: [use sys]**\n",
    "1. Convert both into date and time objects using the appropriate functions.\n",
    "2. Print the weekday, year, second and hour using the appropriate function and variables."
   ]
  },
  {
   "cell_type": "code",
   "execution_count": 229,
   "metadata": {},
   "outputs": [],
   "source": [
    "#### Start solution ####"
   ]
  },
  {
   "cell_type": "code",
   "execution_count": 230,
   "metadata": {},
   "outputs": [],
   "source": [
    "curr_time = Sys.time()"
   ]
  },
  {
   "cell_type": "code",
   "execution_count": 231,
   "metadata": {},
   "outputs": [],
   "source": [
    "curr_date = Sys.Date()"
   ]
  },
  {
   "cell_type": "code",
   "execution_count": 232,
   "metadata": {},
   "outputs": [],
   "source": [
    "date = as.Date(curr_date)"
   ]
  },
  {
   "cell_type": "code",
   "execution_count": 233,
   "metadata": {},
   "outputs": [],
   "source": [
    "time = as.POSIXlt(curr_time)"
   ]
  },
  {
   "cell_type": "code",
   "execution_count": 234,
   "metadata": {},
   "outputs": [
    {
     "name": "stdout",
     "output_type": "stream",
     "text": [
      "weekday :  3\n",
      "year :  122\n",
      "second :  22.58642\n",
      "hour :  7"
     ]
    }
   ],
   "source": [
    "cat('weekday : ',time$wday)\n",
    "\n",
    "cat('\\nyear : ',time$year)\n",
    "\n",
    "cat('\\nsecond : ',time$sec)\n",
    "\n",
    "cat('\\nhour : ',time$hour)"
   ]
  },
  {
   "cell_type": "code",
   "execution_count": 235,
   "metadata": {},
   "outputs": [],
   "source": [
    "#### End solution ####"
   ]
  },
  {
   "cell_type": "markdown",
   "metadata": {},
   "source": [
    "### Question 2\n",
    "**Create a variable to store current date/time**\n",
    "1. Create another variable that stores and set the timezone as GMT-5\n",
    "2. Find the difference between your current time and the GMT-5 timezone."
   ]
  },
  {
   "cell_type": "code",
   "execution_count": 236,
   "metadata": {},
   "outputs": [],
   "source": [
    "#### Start solution ####"
   ]
  },
  {
   "cell_type": "code",
   "execution_count": 237,
   "metadata": {},
   "outputs": [
    {
     "name": "stdout",
     "output_type": "stream",
     "text": [
      "[1] \"2022-09-07 07:17:22 PKT\"\n"
     ]
    }
   ],
   "source": [
    "currentTime = as.POSIXlt(Sys.time(), tz='')\n",
    "\n",
    "print(currentTime)"
   ]
  },
  {
   "cell_type": "code",
   "execution_count": 238,
   "metadata": {},
   "outputs": [
    {
     "name": "stdout",
     "output_type": "stream",
     "text": [
      "[1] \"2022-09-07 02:17:22 GMT\"\n"
     ]
    }
   ],
   "source": [
    "gmtTime = as.POSIXlt(Sys.time(), tz = 'GMT')\n",
    "\n",
    "print(gmtTime)"
   ]
  },
  {
   "cell_type": "code",
   "execution_count": 239,
   "metadata": {},
   "outputs": [],
   "source": [
    "#### End solution ####"
   ]
  },
  {
   "cell_type": "markdown",
   "metadata": {},
   "source": [
    "### Good Job! You have successfully completed the section!"
   ]
  },
  {
   "cell_type": "markdown",
   "metadata": {},
   "source": [
    "## Section 6: Loop Functions"
   ]
  },
  {
   "cell_type": "markdown",
   "metadata": {},
   "source": [
    "### Question 1\n",
    "**Create a function to calculate mean and standard deviation of the provided data**\n",
    "1. Create a sequence of numbers from 100 to 150 store in a variable called numbers.\n",
    "1. Use lapply, sapply, apply and tapply to implement the functions on \"numbers\" [only on the second half of the sequence for tapply]"
   ]
  },
  {
   "cell_type": "code",
   "execution_count": 240,
   "metadata": {},
   "outputs": [],
   "source": [
    "#### Start solution ####"
   ]
  },
  {
   "cell_type": "code",
   "execution_count": 241,
   "metadata": {},
   "outputs": [
    {
     "data": {
      "text/html": [
       "<style>\n",
       ".list-inline {list-style: none; margin:0; padding: 0}\n",
       ".list-inline>li {display: inline-block}\n",
       ".list-inline>li:not(:last-child)::after {content: \"\\00b7\"; padding: 0 .5ex}\n",
       "</style>\n",
       "<ol class=list-inline><li>100</li><li>101</li><li>102</li><li>103</li><li>104</li><li>105</li><li>106</li><li>107</li><li>108</li><li>109</li><li>110</li><li>111</li><li>112</li><li>113</li><li>114</li><li>115</li><li>116</li><li>117</li><li>118</li><li>119</li><li>120</li><li>121</li><li>122</li><li>123</li><li>124</li><li>125</li><li>126</li><li>127</li><li>128</li><li>129</li><li>130</li><li>131</li><li>132</li><li>133</li><li>134</li><li>135</li><li>136</li><li>137</li><li>138</li><li>139</li><li>140</li><li>141</li><li>142</li><li>143</li><li>144</li><li>145</li><li>146</li><li>147</li><li>148</li><li>149</li><li>150</li></ol>\n"
      ],
      "text/latex": [
       "\\begin{enumerate*}\n",
       "\\item 100\n",
       "\\item 101\n",
       "\\item 102\n",
       "\\item 103\n",
       "\\item 104\n",
       "\\item 105\n",
       "\\item 106\n",
       "\\item 107\n",
       "\\item 108\n",
       "\\item 109\n",
       "\\item 110\n",
       "\\item 111\n",
       "\\item 112\n",
       "\\item 113\n",
       "\\item 114\n",
       "\\item 115\n",
       "\\item 116\n",
       "\\item 117\n",
       "\\item 118\n",
       "\\item 119\n",
       "\\item 120\n",
       "\\item 121\n",
       "\\item 122\n",
       "\\item 123\n",
       "\\item 124\n",
       "\\item 125\n",
       "\\item 126\n",
       "\\item 127\n",
       "\\item 128\n",
       "\\item 129\n",
       "\\item 130\n",
       "\\item 131\n",
       "\\item 132\n",
       "\\item 133\n",
       "\\item 134\n",
       "\\item 135\n",
       "\\item 136\n",
       "\\item 137\n",
       "\\item 138\n",
       "\\item 139\n",
       "\\item 140\n",
       "\\item 141\n",
       "\\item 142\n",
       "\\item 143\n",
       "\\item 144\n",
       "\\item 145\n",
       "\\item 146\n",
       "\\item 147\n",
       "\\item 148\n",
       "\\item 149\n",
       "\\item 150\n",
       "\\end{enumerate*}\n"
      ],
      "text/markdown": [
       "1. 100\n",
       "2. 101\n",
       "3. 102\n",
       "4. 103\n",
       "5. 104\n",
       "6. 105\n",
       "7. 106\n",
       "8. 107\n",
       "9. 108\n",
       "10. 109\n",
       "11. 110\n",
       "12. 111\n",
       "13. 112\n",
       "14. 113\n",
       "15. 114\n",
       "16. 115\n",
       "17. 116\n",
       "18. 117\n",
       "19. 118\n",
       "20. 119\n",
       "21. 120\n",
       "22. 121\n",
       "23. 122\n",
       "24. 123\n",
       "25. 124\n",
       "26. 125\n",
       "27. 126\n",
       "28. 127\n",
       "29. 128\n",
       "30. 129\n",
       "31. 130\n",
       "32. 131\n",
       "33. 132\n",
       "34. 133\n",
       "35. 134\n",
       "36. 135\n",
       "37. 136\n",
       "38. 137\n",
       "39. 138\n",
       "40. 139\n",
       "41. 140\n",
       "42. 141\n",
       "43. 142\n",
       "44. 143\n",
       "45. 144\n",
       "46. 145\n",
       "47. 146\n",
       "48. 147\n",
       "49. 148\n",
       "50. 149\n",
       "51. 150\n",
       "\n",
       "\n"
      ],
      "text/plain": [
       " [1] 100 101 102 103 104 105 106 107 108 109 110 111 112 113 114 115 116 117 118\n",
       "[20] 119 120 121 122 123 124 125 126 127 128 129 130 131 132 133 134 135 136 137\n",
       "[39] 138 139 140 141 142 143 144 145 146 147 148 149 150"
      ]
     },
     "metadata": {},
     "output_type": "display_data"
    }
   ],
   "source": [
    "numbers = seq(100,150)\n",
    "\n",
    "numbers"
   ]
  },
  {
   "cell_type": "code",
   "execution_count": 242,
   "metadata": {},
   "outputs": [],
   "source": [
    "getMSD <- function(data) c(mean = mean(data), sd = sd(data))"
   ]
  },
  {
   "cell_type": "code",
   "execution_count": 243,
   "metadata": {},
   "outputs": [
    {
     "name": "stdout",
     "output_type": "stream",
     "text": [
      "[[1]]\n",
      "     mean        sd \n",
      "125.00000  14.86607 \n",
      "\n"
     ]
    }
   ],
   "source": [
    "msd <- lapply(X = list(numbers), FUN = getMSD)\n",
    "\n",
    "print(msd)"
   ]
  },
  {
   "cell_type": "code",
   "execution_count": 244,
   "metadata": {},
   "outputs": [
    {
     "name": "stdout",
     "output_type": "stream",
     "text": [
      "          [,1]\n",
      "mean 125.00000\n",
      "sd    14.86607\n"
     ]
    }
   ],
   "source": [
    "msd <- sapply(X = list(numbers), FUN = getMSD, simplify = 'array')\n",
    "\n",
    "print(msd)"
   ]
  },
  {
   "cell_type": "code",
   "execution_count": 245,
   "metadata": {},
   "outputs": [
    {
     "name": "stdout",
     "output_type": "stream",
     "text": [
      "          [,1]\n",
      "mean 125.00000\n",
      "sd    14.86607\n"
     ]
    }
   ],
   "source": [
    "msd <- apply(X = matrix(numbers, nrow = 1),\n",
    "             MARGIN = 1, FUN = getMSD, simplify = TRUE)\n",
    "print(msd)"
   ]
  },
  {
   "cell_type": "code",
   "execution_count": 246,
   "metadata": {},
   "outputs": [
    {
     "name": "stdout",
     "output_type": "stream",
     "text": [
      "$`1`\n",
      "      mean         sd \n",
      "127.000000   1.581139 \n",
      "\n",
      "$`2`\n",
      "      mean         sd \n",
      "132.000000   1.581139 \n",
      "\n",
      "$`3`\n",
      "      mean         sd \n",
      "137.000000   1.581139 \n",
      "\n",
      "$`4`\n",
      "      mean         sd \n",
      "142.000000   1.581139 \n",
      "\n",
      "$`5`\n",
      "      mean         sd \n",
      "147.000000   1.581139 \n",
      "\n"
     ]
    }
   ],
   "source": [
    "f <- gl(5,5)\n",
    "\n",
    "msd <- tapply(X = numbers[26:50], INDEX = f, FUN = getMSD)\n",
    "\n",
    "print(msd)"
   ]
  },
  {
   "cell_type": "code",
   "execution_count": 247,
   "metadata": {},
   "outputs": [],
   "source": [
    "#### End solution ####"
   ]
  },
  {
   "cell_type": "markdown",
   "metadata": {},
   "source": [
    "### Question 2\n",
    "**Create a matrix of dimensions 4x4**\n",
    "1. Find the row-wise and column-wise mean of the matrix.\n",
    "2. Print the values."
   ]
  },
  {
   "cell_type": "code",
   "execution_count": 248,
   "metadata": {},
   "outputs": [],
   "source": [
    "#### Start solution ####"
   ]
  },
  {
   "cell_type": "code",
   "execution_count": 249,
   "metadata": {},
   "outputs": [],
   "source": [
    "mat <- matrix(data = 1:16, ncol = 4, nrow = 4)"
   ]
  },
  {
   "cell_type": "code",
   "execution_count": 250,
   "metadata": {},
   "outputs": [],
   "source": [
    "rowWiseMean <- rowMeans(mat)"
   ]
  },
  {
   "cell_type": "code",
   "execution_count": 251,
   "metadata": {},
   "outputs": [],
   "source": [
    "colWiseMean <- colMeans(mat)"
   ]
  },
  {
   "cell_type": "code",
   "execution_count": 252,
   "metadata": {},
   "outputs": [
    {
     "name": "stdout",
     "output_type": "stream",
     "text": [
      "[1]  7  8  9 10\n"
     ]
    }
   ],
   "source": [
    "print(rowWiseMean)"
   ]
  },
  {
   "cell_type": "code",
   "execution_count": 253,
   "metadata": {},
   "outputs": [
    {
     "name": "stdout",
     "output_type": "stream",
     "text": [
      "[1]  2.5  6.5 10.5 14.5\n"
     ]
    }
   ],
   "source": [
    "print(colWiseMean)"
   ]
  },
  {
   "cell_type": "code",
   "execution_count": 254,
   "metadata": {},
   "outputs": [],
   "source": [
    "#### End solution ####"
   ]
  },
  {
   "cell_type": "markdown",
   "metadata": {},
   "source": [
    "### Good Job! You have successfully completed the section!"
   ]
  },
  {
   "cell_type": "markdown",
   "metadata": {},
   "source": [
    "## Section 7: Data Split"
   ]
  },
  {
   "cell_type": "markdown",
   "metadata": {},
   "source": [
    "### Question 1\n",
    "**Using the data frame Orange:**\n",
    "1. Using split function to break down the dataset on circumference and store it in 'split_data' variable. \n",
    "2. Print the values for split_data where circumference is 30 and 75.\n",
    "3. Find the average age of the tree when the circumference is 30 and when circumference is 214.\n",
    "\n",
    "\n",
    "The dataset is loaded and the variable Orange contains the respective dataset."
   ]
  },
  {
   "cell_type": "code",
   "execution_count": 255,
   "metadata": {},
   "outputs": [],
   "source": [
    "library(datasets)"
   ]
  },
  {
   "cell_type": "code",
   "execution_count": 256,
   "metadata": {},
   "outputs": [
    {
     "data": {
      "text/html": [
       "<table class=\"dataframe\">\n",
       "<caption>A nfnGroupedData: 6 × 3</caption>\n",
       "<thead>\n",
       "\t<tr><th></th><th scope=col>Tree</th><th scope=col>age</th><th scope=col>circumference</th></tr>\n",
       "\t<tr><th></th><th scope=col>&lt;ord&gt;</th><th scope=col>&lt;dbl&gt;</th><th scope=col>&lt;dbl&gt;</th></tr>\n",
       "</thead>\n",
       "<tbody>\n",
       "\t<tr><th scope=row>1</th><td>1</td><td> 118</td><td> 30</td></tr>\n",
       "\t<tr><th scope=row>2</th><td>1</td><td> 484</td><td> 58</td></tr>\n",
       "\t<tr><th scope=row>3</th><td>1</td><td> 664</td><td> 87</td></tr>\n",
       "\t<tr><th scope=row>4</th><td>1</td><td>1004</td><td>115</td></tr>\n",
       "\t<tr><th scope=row>5</th><td>1</td><td>1231</td><td>120</td></tr>\n",
       "\t<tr><th scope=row>6</th><td>1</td><td>1372</td><td>142</td></tr>\n",
       "</tbody>\n",
       "</table>\n"
      ],
      "text/latex": [
       "A nfnGroupedData: 6 × 3\n",
       "\\begin{tabular}{r|lll}\n",
       "  & Tree & age & circumference\\\\\n",
       "  & <ord> & <dbl> & <dbl>\\\\\n",
       "\\hline\n",
       "\t1 & 1 &  118 &  30\\\\\n",
       "\t2 & 1 &  484 &  58\\\\\n",
       "\t3 & 1 &  664 &  87\\\\\n",
       "\t4 & 1 & 1004 & 115\\\\\n",
       "\t5 & 1 & 1231 & 120\\\\\n",
       "\t6 & 1 & 1372 & 142\\\\\n",
       "\\end{tabular}\n"
      ],
      "text/markdown": [
       "\n",
       "A nfnGroupedData: 6 × 3\n",
       "\n",
       "| <!--/--> | Tree &lt;ord&gt; | age &lt;dbl&gt; | circumference &lt;dbl&gt; |\n",
       "|---|---|---|---|\n",
       "| 1 | 1 |  118 |  30 |\n",
       "| 2 | 1 |  484 |  58 |\n",
       "| 3 | 1 |  664 |  87 |\n",
       "| 4 | 1 | 1004 | 115 |\n",
       "| 5 | 1 | 1231 | 120 |\n",
       "| 6 | 1 | 1372 | 142 |\n",
       "\n"
      ],
      "text/plain": [
       "  Tree age  circumference\n",
       "1 1     118  30          \n",
       "2 1     484  58          \n",
       "3 1     664  87          \n",
       "4 1    1004 115          \n",
       "5 1    1231 120          \n",
       "6 1    1372 142          "
      ]
     },
     "metadata": {},
     "output_type": "display_data"
    }
   ],
   "source": [
    "head(Orange)"
   ]
  },
  {
   "cell_type": "code",
   "execution_count": 257,
   "metadata": {},
   "outputs": [],
   "source": [
    "#### Start solution ####"
   ]
  },
  {
   "cell_type": "code",
   "execution_count": 258,
   "metadata": {},
   "outputs": [
    {
     "name": "stdout",
     "output_type": "stream",
     "text": [
      "   Tree age circumference\n",
      "1     1 118            30\n",
      "15    3 118            30\n",
      "29    5 118            30\n",
      "   Tree age circumference\n",
      "17    3 664            75\n"
     ]
    }
   ],
   "source": [
    "split_data <- split(x = Orange,f = Orange$circumference)\n",
    "\n",
    "print(split_data$`30`)\n",
    "\n",
    "print(split_data$`75`)"
   ]
  },
  {
   "cell_type": "code",
   "execution_count": 259,
   "metadata": {},
   "outputs": [
    {
     "data": {
      "text/html": [
       "<ol>\n",
       "\t<li>118</li>\n",
       "\t<li>1582</li>\n",
       "</ol>\n"
      ],
      "text/latex": [
       "\\begin{enumerate}\n",
       "\\item 118\n",
       "\\item 1582\n",
       "\\end{enumerate}\n"
      ],
      "text/markdown": [
       "1. 118\n",
       "2. 1582\n",
       "\n",
       "\n"
      ],
      "text/plain": [
       "[[1]]\n",
       "[1] 118\n",
       "\n",
       "[[2]]\n",
       "[1] 1582\n"
      ]
     },
     "metadata": {},
     "output_type": "display_data"
    }
   ],
   "source": [
    "data1 = split_data$`30`\n",
    "\n",
    "data2 = split_data$`214`\n",
    "\n",
    "lapply(list(data1$age, data2$age), mean)"
   ]
  },
  {
   "cell_type": "code",
   "execution_count": 260,
   "metadata": {},
   "outputs": [],
   "source": [
    "#### End solution ####"
   ]
  },
  {
   "cell_type": "markdown",
   "metadata": {},
   "source": [
    "\n",
    "### Save it and push .ipynb and .html file to your Github Repository\n",
    "## GOOD JOB! You have successfully finished the course!"
   ]
  }
 ],
 "metadata": {
  "kernelspec": {
   "display_name": "R",
   "language": "R",
   "name": "ir"
  },
  "language_info": {
   "codemirror_mode": "r",
   "file_extension": ".r",
   "mimetype": "text/x-r-source",
   "name": "R",
   "pygments_lexer": "r",
   "version": "4.1.3"
  }
 },
 "nbformat": 4,
 "nbformat_minor": 4
}
